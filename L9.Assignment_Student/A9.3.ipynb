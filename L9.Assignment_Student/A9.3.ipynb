{
 "cells": [
  {
   "cell_type": "markdown",
   "metadata": {},
   "source": [
    "# A9.3 PyMC3\n",
    "\n",
    "By Yi-Chi Liao (yi-chi.liao@aalto.fi)       \n",
    "\n",
    "Feel free to ping me for any questions. \n",
    "\n",
    "#### Note: it's recommended to download the notebook files and edit on your local side. \n",
    "#### If you're directly editing the notebook on myBinder, remember the kernal will shut down once you idel for 15 minutes! You might lose all your answers.\n",
    "\n",
    "In this assignment, we will go through some basic examples to get you familiar with this library. We'll also compare the difference between traditional statistics and Bayesian statistics.\n",
    "\n",
    "**Environment requirements: numpy, seaborn, scipy and pymc3**"
   ]
  },
  {
   "cell_type": "code",
   "execution_count": null,
   "metadata": {},
   "outputs": [],
   "source": [
    "import pymc3 as pm\n",
    "import numpy as np\n",
    "import seaborn as sns\n",
    "import matplotlib.pyplot as plt\n",
    "import scipy.stats as st\n",
    "\n",
    "\n",
    "%matplotlib inline\n",
    "sns.set()\n",
    "sns.set_style('white')\n",
    "sns.set_context('talk')\n",
    "%load_ext autoreload\n",
    "%autoreload 2\n",
    "%matplotlib inline\n",
    "%config InlineBackend.figure_format = 'retina'\n",
    "\n",
    "import warnings\n",
    "warnings.filterwarnings('ignore')"
   ]
  },
  {
   "cell_type": "markdown",
   "metadata": {},
   "source": [
    "## Task 9.3.1 Parameter estimation from a Frequentist's perspective\n",
    "\n",
    "We will run a classic parameter estimation task on the mean value of samples. A smartwatch company decided to enable text entry function on their product. Their solution is straightforward, they directly display a qwerty keyboard on the small screen. To ensure this is an acceptable design, they invite 50 users to participate in a user study. The only measurement they collected is the error rate, which are shown below (unit: %). \n",
    "\n",
    "![keyboard](images/keyboard.jpg)"
   ]
  },
  {
   "cell_type": "code",
   "execution_count": null,
   "metadata": {},
   "outputs": [],
   "source": [
    "error_rate = [24.512, 32.195, 25.611, 35.576, 32.158, 18.731, 31.437, 26.643, 45.866, 35.134, \n",
    "              30.499, 33.387, 33.262, 26.232, 22.53, 35.449, 29.985, 41.053, 23.28, 23.698, \n",
    "              38.832, 23.071, 12.984, 33.73, 33.893, 28.5, 21.867, 35.697, 33.877, 41.395, \n",
    "              26.586, 29.913, 22.655, 48.285, 17.953, 32.941, 21.287, 28.368, 32.517, 32.498, \n",
    "              23.71, 45.1, 10.119, 7.923, 32.634, 20.555, 25.022, 26.73, 12.627, 29.69]\n",
    "\n",
    "print (np.mean(error_rate))\n",
    "print (np.std(error_rate))"
   ]
  },
  {
   "cell_type": "markdown",
   "metadata": {},
   "source": [
    "Given that the least acceptable error rate is 31%, so you're wondering if the mean error rate is different from 31%.   \n",
    "\n",
    "From a frequentist's perspective, what test will you apply and what will be your conclusion?  \n",
    "Hint: since we're only wondering if there is a difference, you just need to consider it's 2-sided test."
   ]
  },
  {
   "cell_type": "code",
   "execution_count": null,
   "metadata": {},
   "outputs": [],
   "source": [
    "### Put your code here"
   ]
  },
  {
   "cell_type": "markdown",
   "metadata": {},
   "source": [
    "**Your conclusion:**   \n",
    "I use (______) test, and find the statistic values are (______). The results reject/do not reject the null hypothesis."
   ]
  },
  {
   "cell_type": "markdown",
   "metadata": {},
   "source": [
    "## Task 9.3.2 Parameter estimation from a Bayesian perspective\n",
    "\n",
    "From the same data and a Bayesian perspective, how will you use PyMC3 to analyze the data?   \n",
    "Does the mean value less than 31%? How do you know?   \n",
    "Please also justify your prior distribution on mean (mu), std (sigma) and likelihood function distribution."
   ]
  },
  {
   "cell_type": "code",
   "execution_count": null,
   "metadata": {},
   "outputs": [],
   "source": [
    "### Put your code here"
   ]
  },
  {
   "cell_type": "markdown",
   "metadata": {},
   "source": [
    "**Your conclusion:**   \n",
    "Based on the posterior distribution, I found .....   \n",
    "The conclusion is: "
   ]
  },
  {
   "cell_type": "markdown",
   "metadata": {},
   "source": [
    "**Which one, traditional statistics or Bayesian statistics, works better in this example and why?**     \n",
    "\n",
    "**Your answer:**"
   ]
  },
  {
   "cell_type": "code",
   "execution_count": null,
   "metadata": {},
   "outputs": [],
   "source": []
  }
 ],
 "metadata": {
  "kernelspec": {
   "display_name": "Python 3",
   "language": "python",
   "name": "python3"
  },
  "language_info": {
   "codemirror_mode": {
    "name": "ipython",
    "version": 3
   },
   "file_extension": ".py",
   "mimetype": "text/x-python",
   "name": "python",
   "nbconvert_exporter": "python",
   "pygments_lexer": "ipython3",
   "version": "3.7.7"
  }
 },
 "nbformat": 4,
 "nbformat_minor": 4
}
