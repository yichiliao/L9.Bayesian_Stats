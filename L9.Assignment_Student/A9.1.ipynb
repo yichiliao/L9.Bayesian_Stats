{
 "cells": [
  {
   "cell_type": "markdown",
   "metadata": {},
   "source": [
    "# A9.1 Probability Simulation - generating page vist duration data\n",
    "\n",
    "By Yi-Chi Liao (yi-chi.liao@aalto.fi)       \n",
    "\n",
    "Feel free to ping me for any questions. \n",
    "#### Note: it's recommended to download the notebook files and edit on your local side. \n",
    "#### If you're directly editing the notebook on myBinder, remember the kernal will shut down once you idel for 15 minutes! You might lose all your answers."
   ]
  },
  {
   "cell_type": "markdown",
   "metadata": {},
   "source": [
    "In this assignment, we want to simulate the overall duration for a user to visit a particular webpage, such a duration is also known as page visit duration. You need to create a model include several elements so the model is able to generate realisitc data.  \n",
    "\n",
    "Our model is a simplified version of [Keystroke-Level Model](https://en.wikipedia.org/wiki/Keystroke-level_model) (KLM); in the original KLM, there are 6 components to estimate a duration of a certain interaction, which are:  \n",
    "- K (key stroke or button press): is the time for pressing a button.\n",
    "- P (pointing): time for doing a pointing task.\n",
    "- H (homing): time for moving the hand to the input device.\n",
    "- D (drawing): time for drawing any strokes\n",
    "- M (mental): mentally preparing to do any task.\n",
    "- R (responding): time for the system to respond to user's input.\n",
    " \n",
    " \n",
    "For our example webpage, we assume the user only needs to observe some interesting targets every now and then, and moves the cursor there and clicks it. Hence, our model hass only 3 components: **P (time for moving a cursor from current location to the target button)**, **K (time for pressing a button)**, and **the duration between each time he/she finds an interestet target**. \n",
    "\n",
    "For example, a user enters the webpage, after **3 seconds** of browsing, he/she finds one interesting target, and spends **0.5 seconds** to move the cursor there and spends **0.1 second** to click it, then leaves the webpage. In total, he spends **3.6 seconds** in the webpage, this is the page visit duration for this user. \n",
    "\n",
    "In general, we assume there will be **N interesting targets** for each user, so he will spend **N different duration for waiting for the next interesting target** + **N different duration for pointing** + **N different duration. for clicking the button**. "
   ]
  },
  {
   "cell_type": "markdown",
   "metadata": {},
   "source": [
    "## Task 9.1.1\n",
    "\n",
    "For the first task, let's assume we have no actual user data as a reference, all you need to do is making assumptions and using numpy package to generate random data. However, some rules are given for you to make reasonable estimates.   \n",
    "\n",
    "First, we already know that every user will find 1 ~ 20 interesting targets on this website, and the all the possible target amount share the same probability. \n",
    "\n",
    "Second, when every new target pops up, we assume the target distance is a uniform distribution ranging from 0 to 10 cm away; also, the target width is uniform distribution, too, ranging from 0 to 1 cm. \n",
    "\n",
    "Based on the distance and width, we know how to estimate the movement time according to [fitts' law](https://en.wikipedia.org/wiki/Fitts's_law):\n",
    "\n",
    "$$ \\begin{equation} MT = a + b \\times \\log_2\\left(\\frac{2D}{W}\\right) \\end{equation}    $$ \n",
    "\n",
    "where D is the target distance (unit: cm), W is the target width (unit: cm), and MT is the movement time (unit: millisecond). \n",
    "\n",
    "The quation basically states that if we know the width (W) and distance (D) of this target, we can roughly estimate the time for moving your cursor from current position to therem that is, our time P in the KLM model. For the following task, the a and b coefficients of Fitts' law will be given (as calculated by [Prof. Scott I. MacKenzie's paper](https://www.yorku.ca/mack/hhci2018.html)).   \n",
    "Fitts' law will produce deterministic estimation, a set of <distance, width> of the target will always lead to the same pointing time. This is, however, unlike actual human's performance. To make it more natural, we can add a very small Gaussian distributed noise, so that even the same target is shown twice, the resulting performance will be slightly different.\n",
    "\n",
    "Thirdly, we assume the interval for a user to find next interesting target is a normal distributed random function with a 4000 milliseconds mean value. We also assume the clicking time is another normal distributed probability with a 50 milliseconds mean value.\n",
    "\n",
    "Please follow the above rules to create a model.\n",
    "\n",
    "**Environment requirements: numpy and matplotlib**"
   ]
  },
  {
   "cell_type": "code",
   "execution_count": 1,
   "metadata": {},
   "outputs": [],
   "source": [
    "## No need to change anything here\n",
    "\n",
    "import numpy as np\n",
    "import matplotlib.pyplot as plt\n",
    "\n",
    "fitts_a = 12.8 ## Fitts' law coefficient a \n",
    "fitts_b = 94.7 ## Fitts' law coefficient b\n",
    "\n",
    "# The movement time can be calculated:\n",
    "# MT = a + b * log(2D/W)   ---  D and W with unit cm, and MT is in millisecond\n",
    "\n",
    "def ecdf(data):\n",
    "    \"\"\"Compute ECDF for a one-dimensional array of measurements.\"\"\"\n",
    "    # Number of data points\n",
    "    n = len(data)\n",
    "\n",
    "    # x-data for the ECDF\n",
    "    x = np.sort(data)\n",
    "\n",
    "    # y-data for the ECDF\n",
    "    y = np.arange(1, n+1) / n\n",
    "\n",
    "    return x, y"
   ]
  },
  {
   "cell_type": "code",
   "execution_count": null,
   "metadata": {},
   "outputs": [],
   "source": [
    "### Write down your answer \n",
    "\n",
    "def number_of_targets ():\n",
    "    n = ____  # Generate a number (how many target does this user find) from A uniform distribution\n",
    "    return n\n",
    "    \n",
    "def pointing_time_generator (n=1):\n",
    "    fitts_width = ____     # Generate target width(s) in unit cm\n",
    "    fitts_distance = ____  # Generate target distance(s) in unit cm\n",
    "    pointing_time = ____   # Calculate the pointing time (movement time) for this target\n",
    "    # Add some Gaussian noise to make more realistic data\n",
    "    return pointing_time\n",
    "    \n",
    "def waiting_time_generator (n=1):\n",
    "    w_time = ____   # Generate waiting time for each target from a normal distribution\n",
    "    return w_time\n",
    "    \n",
    "def keystroke_time_generator (n=1):\n",
    "    k_time = ____   # Generate button-click time for each target from a normal distribution\n",
    "    return k_time\n",
    "    \n",
    "def page_visit_duration_model(sample=1):\n",
    "    page_visit_duration = []\n",
    "    \n",
    "    # Each sample is a simulated user's total page visit duration\n",
    "    for i in range (sample):\n",
    "        ## TODO: Fill your code here\n",
    "        \n",
    "        page_visit_duration.append (visit_duration/1000)  # millisecond to second\n",
    "    return page_visit_duration"
   ]
  },
  {
   "cell_type": "code",
   "execution_count": null,
   "metadata": {},
   "outputs": [],
   "source": [
    "# Simulating 1 user's page visit duration\n",
    "one_visit_duration = page_visit_duration_model()\n",
    "print (one_visit_duration)"
   ]
  },
  {
   "cell_type": "markdown",
   "metadata": {},
   "source": [
    "Let's see the distribution of the results with 100 and 5000 samples:"
   ]
  },
  {
   "cell_type": "code",
   "execution_count": null,
   "metadata": {},
   "outputs": [],
   "source": [
    "visit_durations = page_visit_duration_model(100)\n",
    "plt.hist(visit_durations,bins=10);"
   ]
  },
  {
   "cell_type": "code",
   "execution_count": null,
   "metadata": {},
   "outputs": [],
   "source": [
    "visit_durations = page_visit_duration_model(5000)\n",
    "plt.hist(visit_durations,bins=10);"
   ]
  },
  {
   "cell_type": "markdown",
   "metadata": {},
   "source": [
    "Plot the results in ECDF"
   ]
  },
  {
   "cell_type": "code",
   "execution_count": null,
   "metadata": {},
   "outputs": [],
   "source": [
    "# Generate x- and y-data for the ECDF\n",
    "x_visit, y_visit = ecdf(visit_durations)\n",
    "\n",
    "# Plot the ECDF\n",
    "plt.plot(x_visit, y_visit, marker='.', linestyle='none');"
   ]
  },
  {
   "cell_type": "markdown",
   "metadata": {},
   "source": [
    "**Question: (Directly write down your answer below)**\n",
    "- What distribution do you think is the estimated page visit durations given enough samples? Why?\n",
    "\n",
    "**Answer:**\n"
   ]
  },
  {
   "cell_type": "markdown",
   "metadata": {},
   "source": [
    "## Task 9.1.2\n",
    "\n",
    "Now we assume the user's interested target is not a uniformly distributed probability, but a normally distributed one (mean 10). How will the final distribution of page visit durations look like?"
   ]
  },
  {
   "cell_type": "code",
   "execution_count": null,
   "metadata": {},
   "outputs": [],
   "source": [
    "def number_of_targets ():\n",
    "    n = ____  # Generate a number (how many target does this user find) from A normal distribution\n",
    "    return n"
   ]
  },
  {
   "cell_type": "markdown",
   "metadata": {},
   "source": [
    "Let's again plot all the estimated page visit durations:"
   ]
  },
  {
   "cell_type": "code",
   "execution_count": null,
   "metadata": {},
   "outputs": [],
   "source": [
    "visit_durations = page_visit_duration_model(8000)\n",
    "plt.hist(visit_durations,bins=15)\n",
    "plt.show()"
   ]
  },
  {
   "cell_type": "code",
   "execution_count": null,
   "metadata": {},
   "outputs": [],
   "source": [
    "# Plot the ECDF\n",
    "x_visit, y_visit = ecdf(visit_durations)\n",
    "plt.plot(x_visit, y_visit, marker='.', linestyle='none');"
   ]
  },
  {
   "cell_type": "markdown",
   "metadata": {},
   "source": [
    "**Question: (Directly write down your answer below)**\n",
    "- What distribution do you think now? Why?\n",
    "\n",
    "**Answer:**"
   ]
  },
  {
   "cell_type": "markdown",
   "metadata": {},
   "source": [
    "## Task 9.1.3\n",
    "\n",
    "Now we have some actual users' data which only logged the interested targets they found. The data is shown below:"
   ]
  },
  {
   "cell_type": "code",
   "execution_count": null,
   "metadata": {},
   "outputs": [],
   "source": [
    "acutal_user_target_number = [6, 6, 5, 7, 5, 5, 10, 8, 9, 8, 10, 5, 5, 8, 5, 10, 12, \n",
    "                             12, 8, 9, 5, 4, 4, 8, 5, 4, 10, 3, 5, 4, 2, 9, 7, 5, 6, \n",
    "                             7, 3, 9, 6, 5, 4, 8, 6, 7, 6, 6, 9, 6, 8, 4, 5, 5, 10, \n",
    "                             3, 11, 6, 4, 7, 8, 5, 7, 4, 6, 5, 10, 5, 6, 10, 11, 8, 2, \n",
    "                             6, 6, 15, 7, 6, 7, 9, 12, 13, 7, 4, 8, 8, 6, 8, 6, 4, 5, \n",
    "                             3, 8, 7, 5, 5, 4, 9, 8, 7, 4, 7]"
   ]
  },
  {
   "cell_type": "markdown",
   "metadata": {},
   "source": [
    "Please estimate the distribution of the data, and using the parameters of the distribution to update your model."
   ]
  },
  {
   "cell_type": "code",
   "execution_count": null,
   "metadata": {},
   "outputs": [],
   "source": [
    "### Check what is the distribution and justify why"
   ]
  },
  {
   "cell_type": "code",
   "execution_count": null,
   "metadata": {},
   "outputs": [],
   "source": [
    "### Update your number_of_targets functions according to your estimation of the distribution\n",
    "def number_of_targets ():\n",
    "    n = ____  # Generate a number (how many target does this user find)\n",
    "    return n"
   ]
  },
  {
   "cell_type": "markdown",
   "metadata": {},
   "source": [
    "Let's again plot all the estimated page visit durations:"
   ]
  },
  {
   "cell_type": "code",
   "execution_count": null,
   "metadata": {},
   "outputs": [],
   "source": [
    "visit_durations = page_visit_duration_model(8000)\n",
    "plt.hist(visit_durations,bins=15)\n",
    "plt.show()"
   ]
  },
  {
   "cell_type": "code",
   "execution_count": null,
   "metadata": {},
   "outputs": [],
   "source": [
    "# Plot the ECDF\n",
    "x_visit, y_visit = ecdf(visit_durations)\n",
    "plt.plot(x_visit, y_visit, marker='.', linestyle='none');"
   ]
  },
  {
   "cell_type": "markdown",
   "metadata": {},
   "source": [
    "**Question: (Directly write down your answer below)**\n",
    "- What distribution do you think now? Why?\n",
    "\n",
    "**Answer:**"
   ]
  },
  {
   "cell_type": "code",
   "execution_count": null,
   "metadata": {},
   "outputs": [],
   "source": []
  }
 ],
 "metadata": {
  "kernelspec": {
   "display_name": "Python 3",
   "language": "python",
   "name": "python3"
  },
  "language_info": {
   "codemirror_mode": {
    "name": "ipython",
    "version": 3
   },
   "file_extension": ".py",
   "mimetype": "text/x-python",
   "name": "python",
   "nbconvert_exporter": "python",
   "pygments_lexer": "ipython3",
   "version": "3.7.7"
  }
 },
 "nbformat": 4,
 "nbformat_minor": 4
}
