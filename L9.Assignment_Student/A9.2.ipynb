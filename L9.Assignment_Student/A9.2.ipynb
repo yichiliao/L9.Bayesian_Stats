{
 "cells": [
  {
   "cell_type": "markdown",
   "metadata": {},
   "source": [
    "# A9.2 Bayesian Inference\n",
    "\n",
    "By Yi-Chi Liao (yi-chi.liao@aalto.fi)       \n",
    "\n",
    "Feel free to ping me for any questions.\n",
    "\n",
    "#### Note: it's recommended to download the notebook files and edit on your local side. \n",
    "#### If you're directly editing the notebook on myBinder, remember the kernal will shut down once you idel for 15 minutes! You might lose all your answers.\n",
    "\n",
    "In this assignment, we use the Pmf package, as introduced in the lecture, to run some simple Bayesian inferences.\n"
   ]
  },
  {
   "cell_type": "markdown",
   "metadata": {},
   "source": [
    "### Task 9.2.1 German Tank Problem\n",
    "\n",
    "Imagine you are a stastician working for Western Allies during War World II, and your most important task is to estimate how many Panzer V tanks were made from a specific factory everyday. Based on the intelligence, your only information is that a typical tank factory can produce less than 200 tanks per day. \n",
    "\n",
    "The only helpful information you have is the serial number from the captured tanks. We already know that the German tank will be produced from serial number 1 to N based on its daily production rate. If we capture a tank with serial number 43, we know this is the 43rd tank the factory made at some day. Because every data you collect (capture one tank) is very expensive, you have to make the best out of every data point. Bayesian inference seems to be the best tool in this scenario. \n",
    "\n",
    "Please follow the code to help Western Allies win the war.\n",
    "\n",
    "\n",
    "**Environment requirements: numpy, matplotlib, pandas, and empiricaldist**"
   ]
  },
  {
   "cell_type": "code",
   "execution_count": null,
   "metadata": {},
   "outputs": [],
   "source": [
    "import numpy as np\n",
    "import pandas as pd\n",
    "import matplotlib.pyplot as plt\n",
    "from empiricaldist import Pmf\n",
    "from ipywidgets import interact"
   ]
  },
  {
   "cell_type": "code",
   "execution_count": null,
   "metadata": {},
   "outputs": [],
   "source": [
    "# Init the plotting function\n",
    "def decorate_tank(title):\n",
    "    \"\"\"Labels the axes.\n",
    "    \n",
    "    title: string\n",
    "    \"\"\"\n",
    "    plt.xlabel('Tank production rate')\n",
    "    plt.ylabel('PMF')\n",
    "    plt.title(title)\n",
    "\n",
    "# Create a uniform probability as prior belif\n",
    "tank_model = Pmf.from_seq(range(201))\n",
    "\n",
    "tank_model.plot()\n",
    "decorate_tank('Prior distribution')"
   ]
  },
  {
   "cell_type": "markdown",
   "metadata": {},
   "source": [
    "Now, please write down your likelihood function."
   ]
  },
  {
   "cell_type": "code",
   "execution_count": null,
   "metadata": {},
   "outputs": [],
   "source": [
    "def likelihood_tank(data, hypo):\n",
    "    \"\"\"Likelihood function for the tank production rate estimation.\n",
    "    \n",
    "    data: the serial number of 1 captured tank\n",
    "    hypo: the tank production rate\n",
    "    \n",
    "    returns: float probability\n",
    "    \"\"\"\n",
    "    return 1"
   ]
  },
  {
   "cell_type": "markdown",
   "metadata": {},
   "source": [
    "On a lucky day, you captured 5 tanks and found the serial numbers are: 8, 7, 7, 5, 4. \n",
    "  \n",
    "What is the most likely tank production rate to you? And what is the 95% credibility region?   \n",
    "(please use update function as we did in the lecture notebook)"
   ]
  },
  {
   "cell_type": "code",
   "execution_count": null,
   "metadata": {},
   "outputs": [],
   "source": [
    "### Write your answer here"
   ]
  },
  {
   "cell_type": "markdown",
   "metadata": {},
   "source": [
    "A week later, you captured 2 tanks with serial numbers 45 and 74. \n",
    "\n",
    "What is your updated posterior probability distribution?   \n",
    "What is the most likely tank production rate to you now? And what is your belief on that?   \n",
    "(please use update function as we did in the lecture notebook)"
   ]
  },
  {
   "cell_type": "code",
   "execution_count": null,
   "metadata": {},
   "outputs": [],
   "source": [
    "### Write your answer here"
   ]
  },
  {
   "cell_type": "markdown",
   "metadata": {},
   "source": [
    "Anoter week later, you captured 4 tanks with serial numbers 124, 12, 20, 35. \n",
    "\n",
    "What is your updated posterior probability distribution?   \n",
    "What is the most likely tank production rate to you now? And what is your belief on that?   \n",
    "(please use update function as we did in the lecture notebook)"
   ]
  },
  {
   "cell_type": "code",
   "execution_count": null,
   "metadata": {},
   "outputs": [],
   "source": [
    "### Write your answer here"
   ]
  },
  {
   "cell_type": "markdown",
   "metadata": {},
   "source": [
    "### Task 9.2.2 German Tank Problem -- using simulated data\n",
    "\n",
    "As we tried on the lecture, we can use np.random to generate data. Imagine we have a tank capture model, that has a normal distributed probability (mean = 90, and sigma = 30), we can use this model to simulate capturing tanks and acquire their serial numbers.\n",
    "\n",
    "Please implement the following code block for this function:"
   ]
  },
  {
   "cell_type": "code",
   "execution_count": null,
   "metadata": {},
   "outputs": [],
   "source": [
    "### Write down your answer\n",
    "def plot_posterior(mu=90, sigma=30, N=0):\n",
    "    # Init the same hypothesis\n",
    "    ### TODO: fill your code\n",
    "    \n",
    "    # Set seed\n",
    "    np.random.seed(420)\n",
    "\n",
    "    # Capture tanks\n",
    "    ### TODO: fill your code\n",
    "    \n",
    "    \n",
    "    # Plot posterior\n",
    "    tank_model.plot()\n",
    "    decorate_tank('Posterior distribution')\n",
    "    print(\"Maximum apostiori probability is: \", ____)\n",
    "    print(\"95% credibility region is: \", ____)"
   ]
  },
  {
   "cell_type": "markdown",
   "metadata": {},
   "source": [
    "Let's see the posterior distribution after 10 simulations."
   ]
  },
  {
   "cell_type": "code",
   "execution_count": null,
   "metadata": {},
   "outputs": [],
   "source": [
    "plot_posterior(N=10)"
   ]
  },
  {
   "cell_type": "markdown",
   "metadata": {},
   "source": [
    "Using interact tool, we can have create more responsive simulations:"
   ]
  },
  {
   "cell_type": "code",
   "execution_count": null,
   "metadata": {},
   "outputs": [],
   "source": [
    "interact(plot_posterior, mu=(0, 150), sigma=(5,50), N=(0, 150));"
   ]
  },
  {
   "cell_type": "code",
   "execution_count": null,
   "metadata": {},
   "outputs": [],
   "source": []
  }
 ],
 "metadata": {
  "kernelspec": {
   "display_name": "Python 3",
   "language": "python",
   "name": "python3"
  },
  "language_info": {
   "codemirror_mode": {
    "name": "ipython",
    "version": 3
   },
   "file_extension": ".py",
   "mimetype": "text/x-python",
   "name": "python",
   "nbconvert_exporter": "python",
   "pygments_lexer": "ipython3",
   "version": "3.7.7"
  }
 },
 "nbformat": 4,
 "nbformat_minor": 4
}
